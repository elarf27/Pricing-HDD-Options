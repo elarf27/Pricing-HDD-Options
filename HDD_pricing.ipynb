{
 "cells": [
  {
   "cell_type": "markdown",
   "id": "9ed1e4f2",
   "metadata": {},
   "source": [
    "# Pricing Heating Degree Days (HDD) Derivatives"
   ]
  },
  {
   "cell_type": "code",
   "execution_count": 1,
   "id": "f0b40eab",
   "metadata": {},
   "outputs": [],
   "source": [
    "import pandas as pd\n",
    "import numpy as np\n",
    "import datetime as dt\n",
    "import seaborn as sns\n",
    "import matplotlib.pyplot as plt\n",
    "import matplotlib.patches as mpatches\n",
    "import matplotlib.lines as mlines\n",
    "from scipy import stats, interpolate\n",
    "from scipy.optimize import curve_fit\n",
    "from statsmodels.tsa.ar_model import AutoReg\n",
    "from scipy.optimize import newton"
   ]
  },
  {
   "cell_type": "code",
   "execution_count": 2,
   "id": "2f1a7548",
   "metadata": {},
   "outputs": [],
   "source": [
    "import warnings\n",
    "warnings.filterwarnings('ignore')"
   ]
  },
  {
   "cell_type": "markdown",
   "id": "5b3f3005",
   "metadata": {},
   "source": [
    "## Background"
   ]
  },
  {
   "cell_type": "markdown",
   "id": "5f6c5b4f",
   "metadata": {},
   "source": [
    "### Temperature Dynamics"
   ]
  },
  {
   "cell_type": "markdown",
   "id": "231fdcca",
   "metadata": {},
   "source": [
    "Since temperature is non-tradable, the market price of risk should be accounted for in the pricing model in order to obtain unique prices for the contracts. In this notebook the pricing is carried out under the parametric risk neutral probability $\\mathbb{Q}^\\lambda$, where $\\lambda$ is a constant market price of risk.\\\n",
    "Let $W = (W_t, t \\geq 0)$ be a $\\mathbb{Q}$-standard Wiener process, then the DAT given by the following OU process\n",
    "\\begin{equation}\n",
    "dT_t = \\left(\\frac{d\\theta_t}{dt} + \\kappa(\\theta_t - T_t) - \\lambda\\sigma_t \\right)dt + \\sigma_t dW^{\\mathbb{Q}}_t\n",
    "\\end{equation}\n",
    "\n",
    "an explicit solution is given by (Proof available upon request)\n",
    "\\begin{equation}\n",
    " T_t = \\theta_t + e^{-\\kappa(t - s)}(T_s - \\theta_s) - \\lambda\\int_{s}^{t}\\sigma_u e^{-\\kappa(t - u)}du\n",
    "    + \\int_{s}^{t}\\sigma_u e^{-\\kappa(t - u)}dB_u\n",
    "\\end{equation}\n",
    "Therefore\n",
    "$$\n",
    "\\mathbb{E}^\\mathbb{Q}[T_t|\\mathcal{F}_s]  = \\mathbb{E}^\\mathbb{P}[T_t|\\mathcal{F}_s] - \\lambda\\int_{s}^{t}\\sigma_u e^{-\\kappa(t - u)}du\n",
    "$$\n",
    "$$\n",
    "\\mathbb{V}ar^\\mathbb{Q}[T_t|\\mathcal{F}_s]  = \\int_{s}^{t}\\sigma_u^2 e^{-2\\kappa(t - u)}dB_u\n",
    "$$\n",
    "Additionally, as long as volatility $\\sigma_i \\forall i \\in [s, t]$ is constant throughout the interval $[s, t]$, the expectation, variance, and covariance are given by \n",
    "$$\n",
    "\\mathbb{E}^\\mathbb{Q}[T_t|\\mathcal{F}_s] = \\mathbb{E}^\\mathbb{P}[T_t|\\mathcal{F}_s] - \\frac{\\lambda\\sigma_i}{\\kappa}(1 - e^{-\\kappa(t - s)})\n",
    "$$\n",
    "$$\n",
    "\\mathbb{V}ar^\\mathbb{Q}[T_t|\\mathcal{F}_s]  = \\frac{\\sigma_i^2}{2\\kappa}(1 - e^{-2\\kappa(t - s)})\n",
    "$$\n",
    "$$\n",
    "\\mathbb{C}ov^\\mathbb{Q}[T_t, T_u|\\mathcal{F}_s]  = e^{-\\kappa(u - t)}\\mathbb{V}ar^\\mathbb{Q}[T_t|\\mathcal{F}_s]\n",
    "$$\n",
    "where $0\\leq s\\leq t \\leq u$"
   ]
  },
  {
   "cell_type": "markdown",
   "id": "4e7b622a",
   "metadata": {},
   "source": [
    "### Payoff and Pricing"
   ]
  },
  {
   "cell_type": "markdown",
   "id": "1bec4d4f",
   "metadata": {},
   "source": [
    "For a given strip or season, the payoff of a HDD index is given by\n",
    "\\begin{equation}\n",
    "\\phi = \\alpha(HDD_n - K)^+\n",
    "\\end{equation}\n",
    "where $\\alpha$ is the tick size, $K$ is the strike, and\n",
    "$$\n",
    "HDD_n = \\sum_{n = 1}^{N}\\operatorname{max}(0, T_{ref} - DAT_n)\n",
    "$$\n",
    "where $T_{ref}$ is a reference temperature, such as 18°C for contracts traded in the CME.\\\n",
    "under the risk neutral $\\mathbb{Q}$-measure conditional on in formation at time $s$\n",
    "$$\n",
    "T_t \\sim \\mathcal{N}(\\mu_t, \\sigma_t^2)\n",
    "$$\n",
    "where $\\mu_t = \\mathbb{E}^\\mathbb{Q}[T_t|\\mathcal{F}_s]$ and $\\sigma_t^2 = \\mathbb{V}ar^\\mathbb{Q}[T_t|\\mathcal{F}_s]$. When working on Dutch data, it was found that winter periods in the Netherlands satisfy the following\n",
    "$$\n",
    "\\mathbb{P}[max(0, 18 - DAT_n) = 0] \\approx 0\n",
    "$$\n",
    "Hence, for Dutch HDD contracts, we have that\n",
    "$$\n",
    "HDD_n = 18n - \\sum_{i = 1}^{n}T_{t_i};\n",
    "$$\n",
    "Since $T_{t_i}$ come from a normally distributed OU process, it holds that $[T_{t_1}, T_{t_2}, \\cdots, T_{t_n}]$ is also normally distributed. Therefore, $HDD_n$ is also Gaussian with mean\n",
    "$$\n",
    "\\mathbb{E}^\\mathbb{Q}[HDD_n|\\mathcal{F}_t] = \\mathbb{E}^\\mathbb{Q}\\Biggr[18n - \\sum_{i = 1}^{n}T_{t_i}|\\mathcal{F}_t\\Biggr] = 18n - \\sum_{i = 1}^{n}T_{t_i}\\mathbb{E}^\\mathbb{Q}[T_{t_i}|\\mathcal{F}_t]\n",
    "$$\n",
    "and variance\n",
    "$$\n",
    "\\mathbb{V}ar^\\mathbb{Q}[HDD_n|\\mathcal{F}_t] = \\sum_{i = 1}^{n}T_{t_i}\\mathbb{V}ar^\\mathbb{Q}[T_{t_i}|\\mathcal{F}_t] + 2\\mathop{\\sum\\sum}_{i<j}\\mathbb{C}ov[T_{t_i}, T_{t_j}|\\mathcal{F}_t]\n",
    "$$\n",
    "According to the fundamental theorem of asset pricing, the absence of arbitrage, i.e. under an equivalent martingale measure, implies the existence of a state price density which in turn implies the existence of risk neutral probabilities, therefore the price of a HDD call option at time $t \\leq t_1$ is\n",
    "\n",
    "\\begin{align}\n",
    "    \\begin{split}\n",
    "    C_{HDD}(t) & = e^{-r(t_n - t)}\\mathbb{E}^\\mathbb{Q}[\\alpha\\operatorname{max}\\{HDD_n - K, 0\\}|\\mathcal{F}_t]\\\\\n",
    "    & = e^{-r(t_n - t)}\\int_{K}^{\\infty}(x - k)f_{HDD_n}(x)dx\\\\\n",
    "    & = e^{-r(t_n - t)}\\Biggl( (\\mu_n - K)\\Phi(-\\xi_n) + \\frac{\\sigma_n}{\\sqrt{2\\pi}}e^{-\\frac{\\xi_n^2}{2}} \\Biggl)\n",
    "    \\end{split}\n",
    "\\end{align}\n",
    "where $e^{-r(t_n - t)}$ is a stochastic discount factor, $K$ is the strike, $\\xi_n = (K - \\mu_n) / \\sigma_n$, and $\\Phi$ is the cumulative distribution function of the standard normal distribution. Similarly, the price of a HDD put option at time $t \\leq t_1$ is\n",
    "\\begin{align}\\label{put}\n",
    "    \\begin{split}\n",
    "        P_{HDD}(t) & = e^{-r(t_n - t)}\\mathbb{E}^\\mathbb{Q}[\\alpha \\operatorname{max}\\{K - HDD_n, 0\\}|\\mathcal{F}_t]\\\\\n",
    "        & = e^{-r(t_n - t)}\\int_{0}^{K}(K-x)f_{HDD_n}(x)dx\\\\\n",
    "        & = e^{-r(t_n - t)}\\Biggr[(K - \\mu_n)\\Biggl(\\Phi(\\xi_n) - \\Phi\\Bigl(-\\frac{\\mu_n}{\\sigma_n}\\Bigl)\\Biggl) + \\frac{\\sigma_n}{\\sqrt{2\\pi}}\\Bigl(e^{-\\frac{\\xi_n^2}{2}} - e^{\\frac{1}{2}(\\frac{\\mu_n}{\\sigma_n})^2}\\Bigl)\\Biggr]\n",
    "    \\end{split}\n",
    "\\end{align}"
   ]
  },
  {
   "cell_type": "markdown",
   "id": "fa69f5f7",
   "metadata": {},
   "source": [
    "## Market Price of Risk "
   ]
  },
  {
   "cell_type": "markdown",
   "id": "51953252",
   "metadata": {},
   "source": [
    "The market price of risk $\\lambda$ represents the risk preferences of market participants and their willingness to expose themselves to risk. Previous studies commonly assumed a market price of risk of zero, whereas recent research indicates the opposite. The approach commonly used in the literature suggests inferring the market price of risk from market data. That is, finding the value of $\\lambda$ that matches theoretical model prices with observed market prices. Although it assumes, that $\\lambda$ is constant, subsequent research indicates the opposite. For instance, some studies, compare the theoretical future prices to the prices observed in the market under the assumption of a Lévy process, and examines the time dependence of the market price of risk and finds a relationship between $\\lambda_t$ and its lag. Other studies that estimate the implied market price of risk for German CAT derivatives in Berlin find a non-zero value of $\\lambda$ with an increasing seasonal structure as the expiration date of the temperature future increases.\\\n",
    "In a new approach, I propose to break away from the frameworks in the literature and assume a time varying $\\lambda$, i.e $\\lambda = \\lambda_t$. Since the market price of risk can be inferred from market data then $\\lambda_t$ can be estimated using a root finding algorithm. That is, focusing on puts, the market price of risk for a given option is the $\\lambda$-value for which\n",
    "\\begin{equation}\n",
    "    V_p(t_0, HDD, K, T, r, \\lambda) = V_p^{mkt}(K,T)\n",
    "\\end{equation}\n",
    "where $V_p(t_0, HDD, K, T, r, \\lambda)$ is the predicted put price, $V_p^{mkt}(K,T)$ is the observed market price of the put, and $t_0 = 0$.\\\n",
    "To find $\\lambda_t$ the Newton Raphson root-finding iteration can be used such that\n",
    "\\begin{equation}\n",
    "    f(\\lambda) := V_p^{mkt}(K,T) - V_p(t_0, HDD, K, T, r, \\lambda) = 0\n",
    "\\end{equation}\n",
    "Hence, since $\\lambda_t$ is not constant, given an initial guess $\\lambda_t^0$ and $\\frac{df(\\lambda)}{d\\lambda}$ the next approximations of $\\lambda_t^i$ are found as\n",
    "$$\n",
    "\\lambda_t^{i+1} = \\lambda_t^i - \\frac{f(\\lambda_t^i)}{f'(\\lambda_t^i)};\\quad \\forall i \\geq 0\n",
    "$$"
   ]
  },
  {
   "cell_type": "markdown",
   "id": "8da0595d",
   "metadata": {},
   "source": [
    "## Code Example"
   ]
  },
  {
   "cell_type": "markdown",
   "id": "66d84c82",
   "metadata": {},
   "source": [
    "### Temperature visualization"
   ]
  },
  {
   "cell_type": "code",
   "execution_count": 23,
   "id": "5b4afb0d",
   "metadata": {},
   "outputs": [],
   "source": [
    "amsterdam = pd.read_csv('/AmstImproved2.csv', parse_dates = ['date'], index_col = [0])"
   ]
  },
  {
   "cell_type": "code",
   "execution_count": 5,
   "id": "90299aa8",
   "metadata": {},
   "outputs": [],
   "source": [
    "amst_avg = amsterdam[['Average Temperature']].copy(deep = True)\n",
    "amstc = amsterdam[['Average Temperature']].copy(deep = True)\n",
    "amst_szn = amsterdam.copy(deep = True)"
   ]
  },
  {
   "cell_type": "code",
   "execution_count": 6,
   "id": "03d22530",
   "metadata": {},
   "outputs": [
    {
     "data": {
      "text/plain": [
       "<matplotlib.lines.Line2D at 0x7faa74475d00>"
      ]
     },
     "execution_count": 6,
     "metadata": {},
     "output_type": "execute_result"
    },
    {
     "data": {
      "image/png": "[encoded data removed]",
      "text/plain": [
       "<Figure size 900x300 with 1 Axes>"
      ]
     },
     "metadata": {},
     "output_type": "display_data"
    }
   ],
   "source": [
    "fig = plt.figure(figsize = (9, 3))\n",
    "plt.plot(amsterdam['Average Temperature'][6000:], color = 'k')\n",
    "plt.axhline(amsterdam['Average Temperature'].mean(), linewidth = 3, color = '#50C878')"
   ]
  },
  {
   "cell_type": "code",
   "execution_count": 7,
   "id": "497657e2",
   "metadata": {},
   "outputs": [],
   "source": [
    "amst_szn['month'] = amst_szn.index.month\n",
    "amst_split = (amst_szn['month'] >= 5) & (amst_szn['month'] <= 10)\n",
    "amst_szn['summer'] = np.where(amst_split, 1, 0)\n",
    "amst_szn['winter'] = np.where(amst_szn['summer'] != 1, 1, 0)"
   ]
  },
  {
   "cell_type": "code",
   "execution_count": 8,
   "id": "c0566ddd",
   "metadata": {},
   "outputs": [
    {
     "data": {
      "image/png": "[encoded data removed]",
      "text/plain": [
       "<Figure size 600x400 with 1 Axes>"
      ]
     },
     "metadata": {},
     "output_type": "display_data"
    }
   ],
   "source": [
    "fig ,ax = plt.subplots(figsize = (6, 4))\n",
    "\n",
    "sns.distplot(amst_szn[amst_szn['winter'] == 1]['Average Temperature'], bins = 60,\n",
    "             hist_kws = {'color': 'navy', 'edgecolor': 'black'},\n",
    "            kde_kws = {'color': 'black', 'linewidth': 1.5})\n",
    "sns.distplot(amst_szn[amst_szn['summer'] == 1]['Average Temperature'], bins = 60, \n",
    "            hist_kws = {'color': 'black', 'edgecolor': 'black'},\n",
    "            kde_kws = {'color': 'black', 'linewidth': 1.5})\n",
    "\n",
    "black = mpatches.Patch(color = 'navy', label = 'Winter')\n",
    "grey = mpatches.Patch(color = 'grey', label = 'Summer')\n",
    "\n",
    "ax.legend(handles = [black, grey], frameon = False)\n",
    "\n",
    "ax.set_xlabel('DAT(°C)')\n",
    "ax.set_ylabel('Probability density')\n",
    "\n",
    "plt.show()"
   ]
  },
  {
   "cell_type": "markdown",
   "id": "d0a8a7cf",
   "metadata": {},
   "source": [
    "### Pricing"
   ]
  },
  {
   "cell_type": "markdown",
   "id": "229981f9",
   "metadata": {},
   "source": [
    "#### Defining helper functions"
   ]
  },
  {
   "cell_type": "markdown",
   "id": "330865df",
   "metadata": {},
   "source": [
    "The annual cycle or seasonal mean of the DAT can be captured by the first order Fourier series of a sinusoid of the form \n",
    "$$\n",
    "    \\theta_t = A + Bt + C\\sin{(\\omega t + \\varphi)} \\quad \\forall t\\in \\mathbb{N}\n",
    "$$\n",
    "where $\\omega \\approx 2\\pi/365.25$, $\\varphi$ is a phase shift that calibrates the sinusoid for the fact that maximum and minimum temperatures do not occur on the first of January and the first of July, respectively, and $A$ is the amplitude of the sinusoid, i.e. the peak deviation of the function from its center position, which should be chosen alongside $B$, and $C$ so that the curve fits the data."
   ]
  },
  {
   "cell_type": "code",
   "execution_count": 9,
   "id": "51f98157",
   "metadata": {},
   "outputs": [],
   "source": [
    "def temperature(x, a, b, c, varphi):\n",
    "    omega = 2 * np.pi / 365.25\n",
    "    y_hat = a + b * x + c * np.sin(omega * x + varphi)\n",
    "    return y_hat"
   ]
  },
  {
   "cell_type": "markdown",
   "id": "80b608f3",
   "metadata": {},
   "source": [
    "We showed that the DAT is given by an OU process that incorporates the term $d\\theta_t/dt$. The reason is that modeling the mean reversion by this by the time-varying term given by \n",
    "$$\n",
    "\\frac{d\\theta_t}{dt} = B + \\omega C\\cos(\\omega t + \\varphi)\n",
    "$$\n",
    "adjusts the drift in the SDE."
   ]
  },
  {
   "cell_type": "code",
   "execution_count": 10,
   "id": "68457630",
   "metadata": {},
   "outputs": [],
   "source": [
    "def temperature_derivative(x, a, b, c, varphi):\n",
    "    omega = 2 * np.pi / 365.25\n",
    "    derivative = b + c * omega * np.cos(omega * x + varphi)\n",
    "    return derivative"
   ]
  },
  {
   "cell_type": "markdown",
   "id": "82bd6990",
   "metadata": {},
   "source": [
    "It was also found in a larger study carried out by the author that the following function works best for approximating volatility"
   ]
  },
  {
   "cell_type": "code",
   "execution_count": 11,
   "id": "f5f9eb0e",
   "metadata": {},
   "outputs": [],
   "source": [
    "def volatility_model(k, indep, dep):\n",
    "    indep_prime = np.linspace(0, 1, k + 2)[1: - 1]\n",
    "    knot, coeff, degree = interpolate.splrep(indep, dep, t = np.quantile(indep, indep_prime))\n",
    "    dep_fit = interpolate.BSpline(knot, coeff, degree)(indep)\n",
    "    return dep_fit"
   ]
  },
  {
   "cell_type": "markdown",
   "id": "b5b6c929",
   "metadata": {},
   "source": [
    "By solving for $\\theta_t$ it was found that in Amsterdam\n",
    "$$\n",
    "\\theta_t = 9.22 + 1.07\\text{e-}4t + 7.31\\sin{(\\omega t - 1.95)}\n",
    "$$"
   ]
  },
  {
   "cell_type": "code",
   "execution_count": 12,
   "id": "9e67b9e4",
   "metadata": {},
   "outputs": [],
   "source": [
    "def coefficients(x, parameters):\n",
    "    a, b, a1, b1 = parameters\n",
    "    omega = 2 * np.pi / 365.25\n",
    "    varphi = np.arctan(a1 / b1) - np.pi\n",
    "    c = np.sqrt( (a1 ** 2) + (b1 ** 2))\n",
    "    print('Amsterdam Parameters:\\n a {0:0.3}\\n b {1:.2e}\\n c {2:0.3}\\n varphi {3:0.3}'.format(a, b, c, varphi))\n",
    "    y_hat = a + b * x + c * np.sin(omega * x + varphi)\n",
    "    return y_hat\n",
    "def coefficients_fit(x, a, b, a1, b1):\n",
    "    omega = np.pi * 2 / 365.25\n",
    "    y_pred = a + b * x + a1 * np.cos(omega * x) + b1 * np.sin(omega * x)\n",
    "    return y_pred"
   ]
  },
  {
   "cell_type": "code",
   "execution_count": 13,
   "id": "c7dbc976",
   "metadata": {},
   "outputs": [],
   "source": [
    "amst_ord = amst_avg.index.map(dt.datetime.toordinal)[0]\n",
    "amst_avg.index = amst_avg.index.map(dt.datetime.toordinal)"
   ]
  },
  {
   "cell_type": "code",
   "execution_count": 14,
   "id": "0ac1a7a4",
   "metadata": {},
   "outputs": [
    {
     "name": "stdout",
     "output_type": "stream",
     "text": [
      "Amsterdam Parameters:\n",
      " a 9.22\n",
      " b 1.07e-04\n",
      " c 7.31\n",
      " varphi -1.95\n"
     ]
    }
   ],
   "source": [
    "x, y = curve_fit(coefficients_fit, xdata = amst_avg.index - amst_ord,\n",
    "                 ydata = amst_avg['Average Temperature'], method = 'lm')\n",
    "amst_avg['Model'] = coefficients(amst_avg.index - amst_ord, x)"
   ]
  },
  {
   "cell_type": "markdown",
   "id": "8e0589c8",
   "metadata": {},
   "source": [
    "We also find that the speed of mean reversion $\\kappa = 0.206$ "
   ]
  },
  {
   "cell_type": "code",
   "execution_count": 15,
   "id": "9d4a7f98",
   "metadata": {},
   "outputs": [],
   "source": [
    "amst_avg.idnex = amst_avg.index.map(dt.datetime.fromordinal)\n",
    "amst_avg['residual'] = amst_avg['Average Temperature'] - amst_avg['Model']\n",
    "\n",
    "amst_res = amst_avg['residual']\n",
    "amst_res.index = amst_res.index\n",
    "amst_res.index = pd.DatetimeIndex(amst_res.index).to_period('D')\n",
    "\n",
    "amst_model = AutoReg(amst_res, lags = 1, old_names = True, trend = 'n')\n",
    "amst_model_fit = amst_model.fit()\n",
    "amst_params = amst_model_fit.params\n",
    "amst_res = amst_model_fit.resid\n",
    "amst_gamma = amst_params[0]\n",
    "amst_kapa = 1 - amst_gamma"
   ]
  },
  {
   "cell_type": "code",
   "execution_count": 16,
   "id": "bf8deb5d",
   "metadata": {},
   "outputs": [
    {
     "data": {
      "text/plain": [
       "0.20581285751037082"
      ]
     },
     "execution_count": 16,
     "metadata": {},
     "output_type": "execute_result"
    }
   ],
   "source": [
    "amst_kapa"
   ]
  },
  {
   "cell_type": "markdown",
   "id": "a815064f",
   "metadata": {},
   "source": [
    "#### Putting everything together"
   ]
  },
  {
   "cell_type": "code",
   "execution_count": 17,
   "id": "960640dd",
   "metadata": {},
   "outputs": [],
   "source": [
    "amst_params = [9.27, 1.05e-4, 7.21, -1.96]\n",
    "amst_first_ord = amstc.index.map(dt.datetime.toordinal)[0]\n",
    "amst_vol = amsterdam['Average Temperature'].copy(deep = True).to_frame()\n",
    "amst_vol['day'] = amst_vol.index.dayofyear\n",
    "amst_vol['month'] = amst_vol.index.month\n",
    "vol = amst_vol.groupby(['day'])['Average Temperature'].agg(['mean', 'std'])\n",
    "days = np.array(vol['std'].index)\n",
    "amst_std = np.array(vol['std'].values)\n",
    "amst_volatility = volatility_model(20, days, amst_std)"
   ]
  },
  {
   "cell_type": "code",
   "execution_count": 18,
   "id": "a0cf8993",
   "metadata": {},
   "outputs": [],
   "source": [
    "def expectation(seasonal, vol, time, lmd, kappa):\n",
    "    grid = 1 / 365.25\n",
    "    n = len(time)\n",
    "    second_term = - vol * (1 - np.exp(- kappa * grid)) / kappa\n",
    "    mean = 18 * n - (np.sum(seasonal) - lmd * np.sum(second_term))\n",
    "    return mean\n",
    "\n",
    "def variance(vol, time, kappa):\n",
    "    grid = 1 / 365.25\n",
    "    var = np.power(vol, 2)\n",
    "    first_term = var / (2 * kappa) * (1 - np.exp(- 2 * kappa * grid))\n",
    "    cov = 0\n",
    "    for y, ty in enumerate(time):\n",
    "        for z, tz in enumerate(time):\n",
    "            if z > y:\n",
    "                cov += np.exp(- kappa * (tz - ty)) * var[y]\n",
    "    return np.sum(var) + 2 * cov\n",
    "\n",
    "def price(dates, seasonal_params, vol_model, amst_first_ord, lmd, kappa = 0.211):\n",
    "    if isinstance(dates, pd.DatetimeIndex):\n",
    "        date = dates.map(dt.datetime.toordinal)\n",
    "    seasonals = temperature(date - amst_first_ord, * amst_params)\n",
    "    seasonals_derivative = temperature_derivative(date - amst_first_ord, * amst_params)\n",
    "    amst_temps = pd.DataFrame(data = np.array([seasonals, seasonals_derivative]).T,\n",
    "                         index = dates, columns = ['seasonal', 'seasonal_derivative'])\n",
    "    amst_temps['day'] = amst_temps.index.dayofyear\n",
    "    amst_temps['vol'] = vol_model[amst_temps['day'] - 1]\n",
    "    amst_time = np.array([x / 365.25 for x in range(1, len(dates) + 1)])\n",
    "    vol = amst_temps['vol'].values\n",
    "    amst_exp = expectation(seasonals, vol, amst_time, lmd, kappa)\n",
    "    amst_var = variance(vol, amst_time, kappa)\n",
    "    return amst_exp, amst_var"
   ]
  },
  {
   "cell_type": "code",
   "execution_count": 19,
   "id": "c95f27f9",
   "metadata": {},
   "outputs": [
    {
     "name": "stdout",
     "output_type": "stream",
     "text": [
      "Valuation start date: 2023-06-18 \n",
      "Valuation end date: 2024-03-31 \n",
      "Time to maturity in years: 0.786\n"
     ]
    }
   ],
   "source": [
    "strip = pd.date_range(start = '2023-11-01', end = '2024-03-31', freq = 'D')\n",
    "r = 0.0275\n",
    "K = 1800\n",
    "alpha = 1\n",
    "\n",
    "def years(i_1, i_2):\n",
    "    i_1 = dt.datetime.strptime(i_1, '%Y-%m-%d')\n",
    "    i_2 = dt.datetime.strptime(i_2, '%Y-%m-%d')\n",
    "    return abs((i_2 - i_1).days)/365.25\n",
    "\n",
    "start = '2023-06-18' #dt.datetime.today().strftime('%Y-%m-%d')\n",
    "end = '2024-03-31'\n",
    "\n",
    "tau = years(start, end)\n",
    "\n",
    "print('Valuation start date:', start, '\\nValuation end date:', end, '\\nTime to maturity in years:', round(tau, 3))"
   ]
  },
  {
   "cell_type": "markdown",
   "id": "aea81fe3",
   "metadata": {},
   "source": [
    "#### Assuming the market price of risk is 0 (Pricing using an approximation of the market price of risk $\\lambda$ is available upon request)"
   ]
  },
  {
   "cell_type": "code",
   "execution_count": 20,
   "id": "445fcc2b",
   "metadata": {},
   "outputs": [],
   "source": [
    "def option(dates, r, alpha, K, tau, option = 'call', lmd = 0):\n",
    "    amst_exp, amst_var = price(dates, amst_params, amst_volatility, amst_first_ord, lmd)\n",
    "    discount = np.exp(-r*tau)\n",
    "    amst_vol = np.sqrt(amst_var)\n",
    "    xi = (K - amst_exp)/amst_vol\n",
    "    exponential = np.exp(-xi**2/2)\n",
    "    if option == 'call':\n",
    "        predicted_price = alpha*discount*((amst_exp - K)*stats.norm.cdf(-xi) + amst_vol*exponential/np.sqrt(2*np.pi))\n",
    "    elif option == 'put':\n",
    "        exponential2 = np.exp(-amst_exp**2/(2*amst_vol**2))\n",
    "        predicted_price = alpha*discount*((K - amst_exp)*(stats.norm.cdf(xi) - stats.norm.cdf(-amst_exp/amst_vol)) +\n",
    "                                           amst_vol/np.sqrt(2*np.pi)*(exponential-exponential2))\n",
    "        \n",
    "    print('The option price is:', predicted_price)"
   ]
  },
  {
   "cell_type": "code",
   "execution_count": 21,
   "id": "4174f92c",
   "metadata": {},
   "outputs": [
    {
     "name": "stdout",
     "output_type": "stream",
     "text": [
      "The option price is: 202.07947132828403\n"
     ]
    }
   ],
   "source": [
    "option(strip, r, alpha, K, tau, 'put')"
   ]
  },
  {
   "cell_type": "code",
   "execution_count": null,
   "id": "58df6e2b",
   "metadata": {},
   "outputs": [],
   "source": []
  }
 ],
 "metadata": {
  "kernelspec": {
   "display_name": "Python 3 (ipykernel)",
   "language": "python",
   "name": "python3"
  },
  "language_info": {
   "codemirror_mode": {
    "name": "ipython",
    "version": 3
   },
   "file_extension": ".py",
   "mimetype": "text/x-python",
   "name": "python",
   "nbconvert_exporter": "python",
   "pygments_lexer": "ipython3",
   "version": "3.9.18"
  }
 },
 "nbformat": 4,
 "nbformat_minor": 5
}
